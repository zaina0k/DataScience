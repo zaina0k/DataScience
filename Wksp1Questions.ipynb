{
  "cells": [
    {
      "cell_type": "markdown",
      "metadata": {
        "id": "view-in-github",
        "colab_type": "text"
      },
      "source": [
        "<a href=\"https://colab.research.google.com/github/zaina0k/DataScience/blob/Week-1---Regression-Analysis/Wksp1Questions.ipynb\" target=\"_parent\"><img src=\"https://colab.research.google.com/assets/colab-badge.svg\" alt=\"Open In Colab\"/></a>"
      ]
    },
    {
      "cell_type": "markdown",
      "metadata": {
        "id": "sf1F8kyzAQDX"
      },
      "source": [
        "## Linear Regression from Scratch\n",
        "\n",
        "**Step-by-step guide of Linear Regression**\n",
        "1. Define a function that computes 'ax+b'\n",
        "2. Calculate the difference of prediction (y_hat) and y\n",
        "3. Define how you are going to update 'a' and 'b', and change their value\n",
        "4. Iterate above"
      ]
    },
    {
      "cell_type": "code",
      "execution_count": null,
      "metadata": {
        "id": "4HolSaSEAQDY"
      },
      "outputs": [],
      "source": [
        "import numpy as np\n",
        "import matplotlib.pyplot as plt\n",
        "import matplotlib as mpl\n",
        "%matplotlib inline"
      ]
    },
    {
      "cell_type": "code",
      "execution_count": null,
      "metadata": {
        "id": "0sXgZ237AQDZ"
      },
      "outputs": [],
      "source": [
        "x = 5 * np.random.rand(100, 1)\n",
        "y = 3 * x + 5 * np.random.rand(100, 1)"
      ]
    },
    {
      "cell_type": "code",
      "execution_count": null,
      "metadata": {
        "id": "OFn9UgBjAQDZ",
        "outputId": "2eff1a7f-b283-4428-d479-1aa0ed3804d4"
      },
      "outputs": [
        {
          "data": {
            "image/png": "[encoded data removed]",
            "text/plain": [
              "<Figure size 432x288 with 1 Axes>"
            ]
          },
          "metadata": {
            "needs_background": "light"
          },
          "output_type": "display_data"
        }
      ],
      "source": [
        "# TODO: look how our data look like\n",
        "None"
      ]
    },
    {
      "cell_type": "code",
      "execution_count": null,
      "metadata": {
        "id": "YL9lUpy1AQDZ"
      },
      "outputs": [],
      "source": [
        "'''\n",
        "Step 1\n",
        "Define a function that computes 'ax+b'\n",
        "outputs predicted array'''\n",
        "\n",
        "def prediction(a, b, x):\n",
        "    # TODO: return 'x*(transposed)a + b'\n",
        "    equation = None\n",
        "    return equation"
      ]
    },
    {
      "cell_type": "code",
      "execution_count": null,
      "metadata": {
        "id": "fWHpainaAQDa"
      },
      "outputs": [],
      "source": [
        "'''Step 2\n",
        "2. Calculate the difference of prediction and y\n",
        "'''\n",
        "learning_rate = 1e-4\n",
        "\n",
        "# TODO: how do you calculate error\n",
        "def caculate_error(a, b, x, y):\n",
        "    error = None\n",
        "    return error\n",
        "\n",
        "'''Step 3\n",
        "3. Define how you are going to updata 'a' and 'b'\n",
        "'''\n",
        "# By how much are you going to update a and b?\n",
        "def update_ab(a, b, x, error, lr):\n",
        "    # Update a\n",
        "    delta_a = -(lr * (2 / len(error)) * (np.dot(x.T, error)))\n",
        "    # Update b\n",
        "    delta_b = -(lr * (2 / len(error)) * np.sum(error))\n",
        "\n",
        "    return delta_a, delta_b\n",
        "\n",
        "'''Step 4\n",
        "4. step 2 and step 3 within iteration\n",
        "'''\n",
        "# calculate error for given number of times, and update a and b\n",
        "def gradient_descent(x, y, iteration):\n",
        "    # initial a and b set to a=0 and b=0\n",
        "    a = np.zeros((1, 1))\n",
        "    b = np.zeros((1, 1))\n",
        "\n",
        "    for i in range(iteration):\n",
        "        # print(\"a: \", a)\n",
        "        # print(\"b: \", b)\n",
        "        # TODO: get error\n",
        "        error = None\n",
        "        # print(\"error: \", error)\n",
        "        # TODO: get 'delta'ed a and b\n",
        "        delta_a, delta_b = None\n",
        "        # update a and b\n",
        "        a -= delta_a\n",
        "        b -= delta_b\n",
        "\n",
        "    return a, b"
      ]
    },
    {
      "cell_type": "code",
      "execution_count": null,
      "metadata": {
        "id": "ldSqKx5rAQDa",
        "outputId": "3299e2e5-bfdb-4e84-af3c-20579c28b5bd"
      },
      "outputs": [
        {
          "name": "stdout",
          "output_type": "stream",
          "text": [
            "final a: [[0.06926274]] final b: [[0.02132223]]\n",
            "final a: [[0.63248182]] final b: [[0.19513642]]\n",
            "final a: [[2.18479395]] final b: [[0.68166754]]\n",
            "final a: [[2.96314883]] final b: [[0.94018321]]\n",
            "final a: [[3.2967225]] final b: [[1.42016148]]\n"
          ]
        },
        {
          "data": {
            "image/png": "[encoded data removed]",
            "text/plain": [
              "<Figure size 1224x360 with 5 Axes>"
            ]
          },
          "metadata": {
            "needs_background": "light"
          },
          "output_type": "display_data"
        }
      ],
      "source": [
        "iterations = [10, 100, 500, 1000, 10000]\n",
        "\n",
        "fig, ax = plt.subplots(1, 5, figsize=(17, 5))\n",
        "\n",
        "for index, iteration in enumerate(iterations):\n",
        "    # TODO get final a and b from gradient descent\n",
        "    final_a, final_b = None\n",
        "    print(\"final a:\", final_a, \"final b:\", final_b)\n",
        "\n",
        "    # Visualise 5 iteration graphs\n",
        "    # y_pred = final_a[0][0] * x + final_b\n",
        "    y_pred = prediction(final_a, final_b, x)\n",
        "    ax[index].scatter(x, y)\n",
        "    ax[index].plot(x, y_pred, color='r')\n",
        "    ax[index].set_xlabel('X')\n",
        "    ax[index].set_ylabel('Y')\n",
        "\n",
        "plt.show()\n"
      ]
    },
    {
      "cell_type": "markdown",
      "metadata": {
        "id": "hiBMzyXJAQDa"
      },
      "source": [
        "Play around with learning rate and iteration, and try to find the best learning rate!  \n",
        "What if learning rate is very big? What if it's very small?  \n",
        "What you are doing right now is called Hyper-parameter Tuning / Optimisation!  \n",
        "It is a whole different area, so I will not go very deep into it for now, but I encourage you to Google it.  \n",
        "Let's get back to this topic after we learn Deep Learning :)"
      ]
    },
    {
      "cell_type": "markdown",
      "metadata": {
        "id": "E31SE59aAQDb"
      },
      "source": [
        "## Linear Regression using sklearn\n",
        "\n",
        "1. Load LR model with  \n",
        "    **linear_model = sklearn.linear_model.LinearRegression()**\n",
        "\n",
        "2. Train your model with  \n",
        "    **LinearRegression.fit(x, y)**\n",
        "\n",
        "3. Predict y_hat with  \n",
        "    **LinearRegression.predict(x)**\n",
        "\n",
        "reference: https://scikit-learn.org/stable/modules/generated/sklearn.linear_model.LinearRegression.html"
      ]
    },
    {
      "cell_type": "code",
      "execution_count": null,
      "metadata": {
        "id": "mSS14Xd1AQDb"
      },
      "outputs": [],
      "source": [
        "from sklearn.linear_model import LinearRegression\n",
        "\n",
        "# TODO: Load LR model!\n",
        "model = None\n",
        "\n",
        "# TODO: Train!\n",
        "model.None(x, y)\n",
        "\n",
        "# TODO: Predict!\n",
        "predicted = model.None(x)"
      ]
    },
    {
      "cell_type": "code",
      "execution_count": null,
      "metadata": {
        "id": "hG0p4TOrAQDb",
        "outputId": "e5701695-c58e-483b-c2ef-97bb2973db96"
      },
      "outputs": [
        {
          "data": {
            "image/png": "[encoded data removed]",
            "text/plain": [
              "<Figure size 1152x504 with 2 Axes>"
            ]
          },
          "metadata": {
            "needs_background": "light"
          },
          "output_type": "display_data"
        }
      ],
      "source": [
        "# Visualise\n",
        "fig, ax = plt.subplots(1, 2, figsize=(16, 7))\n",
        "\n",
        "ax[0].scatter(x, y)\n",
        "ax[1].scatter(x, y)\n",
        "ax[1].plot(x, predicted, color='r')\n",
        "\n",
        "ax[0].set_xlabel('x')\n",
        "ax[0].set_ylabel('y')\n",
        "ax[1].set_xlabel('x')\n",
        "ax[1].set_ylabel('y')\n",
        "plt.show()"
      ]
    },
    {
      "cell_type": "markdown",
      "metadata": {
        "id": "v0DcJzDqAQDb"
      },
      "source": [
        "## Multiple Linear Regression\n",
        "\n",
        "[Good mathematical explanation](http://sphweb.bumc.bu.edu/otlt/MPH-Modules/BS/BS704-EP713_MultivariableMethods/BS704-EP713_MultivariableMethods2.html)"
      ]
    },
    {
      "cell_type": "code",
      "execution_count": null,
      "metadata": {
        "id": "bJ4rl7MwAQDc",
        "outputId": "f4786fe3-6fbc-4102-d306-753280e74145"
      },
      "outputs": [
        {
          "name": "stdout",
          "output_type": "stream",
          "text": [
            "(200, 3)\n",
            "(200,)\n"
          ]
        }
      ],
      "source": [
        "import csv\n",
        "csvReader = csv.reader(open(\"Advertisement.csv\"))\n",
        "# skip the header\n",
        "next(csvReader)\n",
        "\n",
        "x = []\n",
        "y = []\n",
        "\n",
        "for row in csvReader:\n",
        "    x_i = [float(row[1]), float(row[2]), float(row[3])]\n",
        "    x.append(x_i)\n",
        "\n",
        "    y_i = float(row[4])\n",
        "    y.append(y_i)\n",
        "\n",
        "X = np.array(x)\n",
        "Y = np.array(y)\n",
        "print(X.shape)\n",
        "print(Y.shape)\n",
        "assert len(X)==len(Y)"
      ]
    },
    {
      "cell_type": "code",
      "execution_count": null,
      "metadata": {
        "id": "0ZoHfcSkAQDc"
      },
      "outputs": [],
      "source": [
        "# TODO: load linear regression model\n",
        "model = None\n",
        "# TODO: fit the model\n",
        "model.None(X, Y)\n",
        "Y_pred = model.None(X)"
      ]
    },
    {
      "cell_type": "code",
      "execution_count": null,
      "metadata": {
        "id": "tnUlz6NXAQDc",
        "outputId": "5a44381e-bc59-4d5d-a870-8cd2f08e87e8"
      },
      "outputs": [
        {
          "name": "stdout",
          "output_type": "stream",
          "text": [
            "[ 0.04576465  0.18853002 -0.00103749]\n",
            "2.938889369459405\n"
          ]
        }
      ],
      "source": [
        "print(model.coef_)\n",
        "print(model.intercept_)\n",
        "# TODO: get coeficients for each beta\n",
        "beta_0 = None   # Facebook\n",
        "beta_1 = None   # Instagram\n",
        "beta_2 = None   # Twitter\n",
        "beta_3 = None"
      ]
    },
    {
      "cell_type": "code",
      "execution_count": null,
      "metadata": {
        "id": "ALcG-40BAQDc"
      },
      "outputs": [],
      "source": [
        "# Inference\n",
        "# infer an expected sales based on given values\n",
        "def expected_sales(fb, insta, twitter, beta_0, beta_1, beta_2, beta_3):\n",
        "    # Multiple Linear Regression Model\n",
        "    sales = (beta_0 * fb) + (beta_1 * insta) + (beta_2 * twitter) + beta_3\n",
        "    return sales"
      ]
    },
    {
      "cell_type": "code",
      "execution_count": null,
      "metadata": {
        "id": "jQIQi5i7AQDc",
        "outputId": "2be91be7-613c-406a-dd14-71045d6d2aa3"
      },
      "outputs": [
        {
          "name": "stdout",
          "output_type": "stream",
          "text": [
            "Expected Sales: 45.221357298640044\n"
          ]
        }
      ],
      "source": [
        "# Sales prediction\n",
        "expectation = expected_sales(100, 200, 0, beta_0, beta_1, beta_2, beta_3)\n",
        "print(\"Expected Sales: {}\".format(expectation))\n",
        "\n",
        "# Question: What do you get for (1, 0, 0), (0, 1, 0), (0, 0, 1) and (0, 0, 0)"
      ]
    },
    {
      "cell_type": "markdown",
      "metadata": {
        "id": "56cO4juFAQDc"
      },
      "source": [
        "## Polynomial Regression\n",
        "\n",
        "Let's do Polynomial Regression using scikit-learn!  \n",
        "\n",
        "What if our training points are non-linear and resemble curvy cosine or cubic function? We need Polynomial Regression, which is often called as Multivariate Regression\n",
        "\n",
        "**PolynomialFeatures(degree)**: creates Polynomial object  \n",
        "        `degree`: Degree of the polynomial\n",
        "\n",
        "**PolynomialFeatures.fit_transform(x)**: returns polynomial variables, which are 'x' and 'x to the power of degree'  \n",
        "\n",
        "Check this link out!!  \n",
        "[sklearn document](https://scikit-learn.org/stable/modules/linear_model.html#polynomial-regression-extending-linear-models-with-basis-functions)"
      ]
    },
    {
      "cell_type": "code",
      "execution_count": null,
      "metadata": {
        "id": "htl1focDAQDc",
        "outputId": "a76133c9-62a3-4e15-b2da-34d022cc9311"
      },
      "outputs": [
        {
          "name": "stdout",
          "output_type": "stream",
          "text": [
            "x.shape:  (100, 3)\n",
            "poly_x.shape:  (100, 10)\n"
          ]
        }
      ],
      "source": [
        "from sklearn.preprocessing import PolynomialFeatures\n",
        "\n",
        "# Random generation of x and y\n",
        "x = 3 * np.random.rand(100, 3) + 1\n",
        "y = (x ** 2) + x + 2 + 5 * np.random.rand(100, 3)\n",
        "\n",
        "print(\"x.shape: \", x.shape)\n",
        "\n",
        "# TODO: Create PolynomialFeature object(degree=2, include_bias=False)\n",
        "poly_feat = None\n",
        "\n",
        "# TODO: transform your data (eg: x=[x1, x2] --> poly_x=[1, x1, x2, x1^2, x1x2, x2^2])\n",
        "poly_x = None\n",
        "print(\"poly_x.shape: \", poly_x.shape)\n",
        "\n",
        "# TODO: Load a model. Which model should you load?\n",
        "linear_model = None\n",
        "\n",
        "# TODO: fit your model\n",
        "linear_model.None;"
      ]
    },
    {
      "cell_type": "code",
      "execution_count": null,
      "metadata": {
        "id": "_G9IR1g4AQDc"
      },
      "outputs": [],
      "source": [
        "from sklearn.metrics import mean_squared_error as mse\n",
        "from sklearn.model_selection import train_test_split\n",
        "\n",
        "def plotting_learning_curves(model, x, y):\n",
        "    # TODO: split your data into train and validation (8:2)\n",
        "    x_train, x_val, y_train, y_val = None\n",
        "    len_train = len(x_train)\n",
        "\n",
        "    train_errors = []\n",
        "    validation_errors = []\n",
        "\n",
        "    for i in range(1, len_train):\n",
        "        model.fit(x_train[:i], y_train[:i])\n",
        "        pred_train = model.predict(x_train[:i])\n",
        "        pred_val = model.predict(x_val)\n",
        "\n",
        "        # TODO: get mean squared error of train data\n",
        "        train_error = None\n",
        "\n",
        "        # TODO: get mean squared error of validation data\n",
        "        validation_error = None\n",
        "\n",
        "        train_errors.append(train_error)\n",
        "        validation_errors.append(validation_error)\n",
        "\n",
        "    # plotting part\n",
        "    plt.plot(np.sqrt(train_errors), 'r', label=\"Train\")\n",
        "    plt.plot(np.sqrt(validation_errors), 'b', label=\"Validation\")\n",
        "\n",
        "    plt.xlabel(\"size of data\")\n",
        "    plt.ylabel(\"loss\")\n",
        "\n",
        "    plt.legend(\n",
        "        loc='upper right',\n",
        "        shadow=True,\n",
        "        fancybox=True,\n",
        "        borderpad=1  # border padding of the legend box\n",
        "    )\n",
        "\n",
        "    plt.show()\n"
      ]
    },
    {
      "cell_type": "code",
      "execution_count": null,
      "metadata": {
        "id": "9IoD_OZyAQDd",
        "outputId": "16cd0ac2-47a8-4cad-e213-0559bd2f5c79"
      },
      "outputs": [
        {
          "data": {
            "image/png": "[encoded data removed]",
            "text/plain": [
              "<Figure size 432x288 with 1 Axes>"
            ]
          },
          "metadata": {
            "needs_background": "light"
          },
          "output_type": "display_data"
        }
      ],
      "source": [
        "plotting_learning_curves(linear_model, x, y)"
      ]
    },
    {
      "cell_type": "markdown",
      "source": [
        "\n",
        "## 2. Logistic Regression and Classification\n",
        "\n",
        "As it has been mentioned in the slides, in the classification problems we have a set of inputs that belong to 2 or more categories and we have to train model to assign new set of inputs to corresponding categories.\n",
        "\n",
        "Although there are many existing classification models, in this lecture we will focus on the **logistic regression**.\n",
        "\n",
        "### Logistic Regression\n",
        "\n",
        "Even though it includes the regression term, it is more related to classification than regression models. Logistic regression is essentially used to calculate the probability of a binary event.\n",
        "\n",
        "Before going too much in-depth to the logistic regression model, we will first analyze its *'building blocks'*.\n",
        "\n",
        "#### Sigmoid function\n",
        "\n",
        "![sigmoid function](https://static.javatpoint.com/tutorial/machine-learning/images/logistic-regression-in-machine-learning.png)\n",
        "\n",
        "The sigmoid function (seen above), maps any real values to a range of 0 and 1. As we train, logistic regression model, we are basically aiming to find the threshold value: the values above threshold is considered as 1, while values below threshold are 0.\n",
        "\n",
        "The sigmoid function itself can be expressed mathematically as\n",
        "$g(z) = \\frac{1}{1 + \\exp(-z)}$. In Python code, this could be expressed as:"
      ],
      "metadata": {
        "id": "29o6knRKB4nE"
      }
    },
    {
      "cell_type": "code",
      "source": [
        "import numpy as np\n",
        "\n",
        "def sigmoid(z):\n",
        "    # TODO: calculate the sigmoid function\n",
        "    None"
      ],
      "metadata": {
        "id": "Qd6sRSehCCcy"
      },
      "execution_count": null,
      "outputs": []
    },
    {
      "cell_type": "markdown",
      "source": [
        "#### Logistic regression hypothesis\n",
        "\n",
        "So far we know how to express the sigmoid function in mathematical and code notations. We also know that in the logistic regression the inputs are passed through the sigmoid in order to determine the classification threshold value.\n",
        "\n",
        "However, how does this connection translate in mathematics?\n",
        "\n",
        "As you might remember from the last notebook, the linear regression had hypothesis $ \\hat{y} = \\theta ^T x$. For the logistic regression, this hypothesis becomes: $ \\hat{y} = \\frac{1}{1 + \\exp(-\\theta ^T x)}$.\n",
        "\n",
        "The hypothesis can be written as:"
      ],
      "metadata": {
        "id": "aXa91-TLCGjS"
      }
    },
    {
      "cell_type": "code",
      "source": [
        "def hypothesis(X, theta):\n",
        "    z = np.dot(X, theta)\n",
        "    # TODO: calculate the 'last step' of the vector of predicted values\n",
        "    y_hat = None\n",
        "\n",
        "    return y_hat"
      ],
      "metadata": {
        "id": "WWNC7R1BCK44"
      },
      "execution_count": null,
      "outputs": []
    },
    {
      "cell_type": "markdown",
      "source": [
        "#### Cost function\n",
        "\n",
        "At this point, we have our function for our logistic function probability output. On the other hand, in order to actually train our model, we also have to define our cost function.\n",
        "\n",
        "In the linear regression case, our cost function had the following form:\n",
        "$\\frac{1}{m} \\sum_{i = 1}^m(\\hat{y_{i}} - y_{i}) ^ 2$. Here $\\hat{y_{i}}$ is the output of our probability function while $y_{i}$ is the actual label. On the other hand, our probability function $\\hat{y}$ has a more complicated expression that would make it quite hard to find its optimum (function would have many local minimum points). Therefore, the cost function for the logistic regression can be written as: $J(\\theta) = -\\frac{1}{m} \\sum_{i = 1}^m (y_{i} \\log{(\\hat{y}_{i})} + (1-y_{i}) \\log{(1 - \\hat{y}_{i})})$.\n",
        "\n",
        "In code this can be expressed as:"
      ],
      "metadata": {
        "id": "sFQNmmXDCO1f"
      }
    },
    {
      "cell_type": "code",
      "source": [
        "def cost(y_hat, y):\n",
        "    # TODO: Write a Python expression to evaluate the cost function\n",
        "    cost = None\n",
        "    return cost"
      ],
      "metadata": {
        "id": "FVk8dblkCYgR"
      },
      "execution_count": null,
      "outputs": []
    },
    {
      "cell_type": "markdown",
      "source": [
        "#### Gradient\n",
        "\n",
        "The optimization process in ML models is usually based on the gradient descent algorithm. We will analyze it much more in depth in the near future lectures, however, just for the purpose of this tutorial, understand it as a way of finding the minimum of the function. As you might remember from the math lessons, the minimum point can be found with the use of derivatives. As we want to analyze the cost function in respect to $\\theta$, we need to differentiate our cost function: $\\frac{1}{m} X^T (\\hat{y} - y)$.\n",
        "\n",
        "The gradient descent formula for updatint $\\theta$ values, therefore, becomes:\n",
        "$\\theta = \\theta - lr.\\frac{1}{m} X^T (\\hat{y} - y)$\n",
        "\n",
        "The code for finding the optimal $\\theta$ becomes:"
      ],
      "metadata": {
        "id": "omz2CQWwCb5S"
      }
    },
    {
      "cell_type": "code",
      "source": [
        "def gradient_descent(x_train, y_train, lr, epochs):\n",
        "    intercept = None # TODO: create intercepts to add to the x_train dataset\n",
        "    x_train = None # TODO: concatenate those intercepts to the x_train dataset respectively\n",
        "    theta = None # TODO: create a vector for parameters\n",
        "\n",
        "    m = len(x_train)\n",
        "\n",
        "    for i in range(epochs):\n",
        "        y_hat = hypothesis(x_train, theta)\n",
        "        gradient = np.dot(x_train.T, (y_hat - y_train)) / m\n",
        "\n",
        "        theta -= None\n",
        "\n",
        "    return theta"
      ],
      "metadata": {
        "id": "57XjIG3XCfJ3"
      },
      "execution_count": null,
      "outputs": []
    },
    {
      "cell_type": "markdown",
      "source": [
        "#### Prediction\n",
        "\n",
        "After finding the optimal $\\theta$, the prediction process is quite straightforward - we just simply need to make a new hypothesis. The output of such function ($\\hat{y}$) will be a probability in the range from $0$ to $1$, therefore, we need to map values according to $0.5$ threshold."
      ],
      "metadata": {
        "id": "qAOLztxdCitd"
      }
    },
    {
      "cell_type": "code",
      "source": [
        "def predict(x_train, y_train, x_test, lr, epochs):\n",
        "\n",
        "    theta = gradient_descent(x_train, y_train)\n",
        "    intercept = None\n",
        "    x_test = None\n",
        "    y_hat =None\n",
        "\n",
        "    y_pred = []\n",
        "\n",
        "    for i in range(len(y_hat)):\n",
        "        if(y_hat[i] >= 0.5):\n",
        "            y_pred.append(1)\n",
        "        else:\n",
        "            y_pred.append(0)\n",
        "\n",
        "    return y_pred"
      ],
      "metadata": {
        "id": "4wR7_wHaClK3"
      },
      "execution_count": null,
      "outputs": []
    },
    {
      "cell_type": "markdown",
      "source": [
        "### Exercise\n",
        "\n",
        "Let's now put it all together into a simple logistic model. For this example exercise, we will use one of the sklearn datasets (Iris)."
      ],
      "metadata": {
        "id": "u0bEh0CGCpyL"
      }
    },
    {
      "cell_type": "code",
      "source": [
        "from sklearn.datasets import load_iris\n",
        "from sklearn.model_selection import train_test_split\n",
        "import math\n",
        "from sklearn.metrics import classification_report,accuracy_score\n",
        "\n",
        "\n",
        "iris = load_iris()\n",
        "\n",
        "#Features\n",
        "X = iris.data[:, :2]\n",
        "y = (iris.target != 0) * 1"
      ],
      "metadata": {
        "id": "HV5ByCBKCuAo"
      },
      "execution_count": null,
      "outputs": []
    },
    {
      "cell_type": "code",
      "source": [
        "############-------Tasks to do-------------------##########################"
      ],
      "metadata": {
        "id": "okPN8zXbCxg9"
      },
      "execution_count": null,
      "outputs": []
    },
    {
      "cell_type": "code",
      "source": [
        "# TOD0: Split the X, y dataset into x_train, x_test, y_train and y_test\n",
        "x_train, x_test, y_train, y_test = None"
      ],
      "metadata": {
        "id": "W2wdpIrGCyNi"
      },
      "execution_count": null,
      "outputs": []
    },
    {
      "cell_type": "code",
      "source": [
        "#---Building the model\n",
        "\n",
        "#sigmoid function\n",
        "def sigmoid(z):\n",
        "    return None\n",
        "\n",
        "#hypothesis function\n",
        "def hypothesis(X, theta):\n",
        "    z = np.dot(X, theta)\n",
        "    y_hat = None\n",
        "\n",
        "    return y_hat\n",
        "\n",
        "#cost function\n",
        "def cost(y_hat, y):\n",
        "    cost = None\n",
        "    return cost\n",
        "\n",
        "#gradient descent function\n",
        "def gradient_descent(x_train, y_train, lr, epochs):\n",
        "    intercept = None\n",
        "    x_train = None\n",
        "    theta = None\n",
        "    lr = 0.01\n",
        "    epochs = 100\n",
        "\n",
        "    m = len(x_train)\n",
        "\n",
        "    for i in range(epochs):\n",
        "        y_hat = None\n",
        "        gradient = None\n",
        "\n",
        "        theta -= None\n",
        "\n",
        "    return theta\n",
        "\n",
        "#prediction function\n",
        "def predict(x_train, y_train, x_test, lr, epochs):\n",
        "\n",
        "    theta = None\n",
        "    intercept = None\n",
        "    x_test = None\n",
        "    y_hat = None\n",
        "\n",
        "    y_pred = []\n",
        "\n",
        "    for i in range(len(y_hat)):\n",
        "        if(y_hat[i] >= 0.5):\n",
        "            y_pred.append(1)\n",
        "        else:\n",
        "            y_pred.append(0)\n",
        "\n",
        "    return y_pred"
      ],
      "metadata": {
        "id": "3MdrI585C4XD"
      },
      "execution_count": null,
      "outputs": []
    },
    {
      "cell_type": "code",
      "source": [
        "#assigning learning rate and epochs values (can leave as it is or change it)\n",
        "lr = 0.01\n",
        "epochs = 100"
      ],
      "metadata": {
        "id": "0ZFtZYYiC64t"
      },
      "execution_count": null,
      "outputs": []
    },
    {
      "cell_type": "code",
      "source": [
        "#predicting values\n",
        "y_pred = predict(x_test, y_test, x_test, lr, epochs) #here should be your prediction function\n",
        "print('Accuracy on test set: ' + str(accuracy_score(y_test, y_pred)))"
      ],
      "metadata": {
        "id": "wVNjwFuvC9aP"
      },
      "execution_count": null,
      "outputs": []
    }
  ],
  "metadata": {
    "kernelspec": {
      "display_name": "Python 3",
      "language": "python",
      "name": "python3"
    },
    "language_info": {
      "codemirror_mode": {
        "name": "ipython",
        "version": 3
      },
      "file_extension": ".py",
      "mimetype": "text/x-python",
      "name": "python",
      "nbconvert_exporter": "python",
      "pygments_lexer": "ipython3",
      "version": "3.7.0"
    },
    "colab": {
      "provenance": [],
      "include_colab_link": true
    }
  },
  "nbformat": 4,
  "nbformat_minor": 0
}